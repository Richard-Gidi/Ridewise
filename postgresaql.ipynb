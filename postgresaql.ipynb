{
 "cells": [
  {
   "cell_type": "markdown",
   "id": "934d4c27",
   "metadata": {},
   "source": [
    "## Importing Relevant Libraries"
   ]
  },
  {
   "cell_type": "code",
   "execution_count": 25,
   "id": "76ea52c2",
   "metadata": {},
   "outputs": [],
   "source": [
    "import boto3\n",
    "import pandas as pd\n",
    "import psycopg2\n",
    "from io import StringIO\n",
    "import glob\n",
    "import os\n",
    "from dotenv import load_dotenv"
   ]
  },
  {
   "cell_type": "markdown",
   "id": "84918f4a",
   "metadata": {},
   "source": [
    "## Service Configuration"
   ]
  },
  {
   "cell_type": "code",
   "execution_count": 26,
   "id": "1bc051f8",
   "metadata": {},
   "outputs": [],
   "source": [
    "# AWS S3 Configuration\n",
    "s3_client = boto3.client('s3')\n",
    "bucket_name = 'ridewise'\n",
    "prefix = 'datasets/'\n",
    "\n",
    "# Load environment variables from .env file\n",
    "load_dotenv()\n",
    "\n",
    "# PostgreSQL Configuration\n",
    "db_params = {\n",
    "    \"host\": os.getenv(\"DB_HOST\"),\n",
    "    \"port\": os.getenv(\"DB_PORT\"),\n",
    "    \"dbname\": os.getenv(\"DB_NAME\"),\n",
    "    \"user\": os.getenv(\"DB_USER\"),\n",
    "    \"password\": os.getenv(\"DB_PASSWORD\"),\n",
    "    \"sslmode\": os.getenv(\"DB_SSLMODE\")\n",
    "}\n"
   ]
  },
  {
   "cell_type": "markdown",
   "id": "37a98e86",
   "metadata": {},
   "source": [
    "## Push Datasets to S3"
   ]
  },
  {
   "cell_type": "code",
   "execution_count": 4,
   "id": "83d7af95",
   "metadata": {},
   "outputs": [
    {
     "name": "stdout",
     "output_type": "stream",
     "text": [
      "✅ Uploaded: drivers.csv to s3://ridewise/datasets/drivers.csv\n",
      "✅ Uploaded: promotions.csv to s3://ridewise/datasets/promotions.csv\n",
      "✅ Uploaded: riders.csv to s3://ridewise/datasets/riders.csv\n",
      "✅ Uploaded: sessions.csv to s3://ridewise/datasets/sessions.csv\n",
      "✅ Uploaded: trips.csv to s3://ridewise/datasets/trips.csv\n"
     ]
    }
   ],
   "source": [
    "# Path to your local datasets folder\n",
    "local_folder = 'Datasets'\n",
    "\n",
    "# Upload each CSV file in the folder\n",
    "csv_files = glob.glob(os.path.join(local_folder, '*.csv'))\n",
    "\n",
    "for file_path in csv_files:\n",
    "    file_name = os.path.basename(file_path)\n",
    "    s3_key = f\"{prefix}{file_name}\"\n",
    "    \n",
    "    s3_client.upload_file(file_path, bucket_name, s3_key)\n",
    "    print(f\"✅ Uploaded: {file_name} to s3://{bucket_name}/{s3_key}\")"
   ]
  },
  {
   "cell_type": "markdown",
   "id": "c6f11e46",
   "metadata": {},
   "source": [
    "## Create Tables in Postgresql and Load the Datasets into them"
   ]
  },
  {
   "cell_type": "code",
   "execution_count": 14,
   "id": "a4b725c3",
   "metadata": {},
   "outputs": [
    {
     "name": "stdout",
     "output_type": "stream",
     "text": [
      "📥 Processing: datasets/drivers.csv ➜ Table: drivers\n",
      "✅ Loaded data into table: drivers\n",
      "📥 Processing: datasets/promotions.csv ➜ Table: promotions\n",
      "✅ Loaded data into table: promotions\n",
      "📥 Processing: datasets/riders.csv ➜ Table: riders\n",
      "✅ Loaded data into table: riders\n",
      "📥 Processing: datasets/sessions.csv ➜ Table: sessions\n",
      "✅ Loaded data into table: sessions\n",
      "📥 Processing: datasets/trips.csv ➜ Table: trips\n",
      "✅ Loaded data into table: trips\n",
      "🚀 All done!\n"
     ]
    }
   ],
   "source": [
    "# --- Connect to PostgreSQL ---\n",
    "conn = psycopg2.connect(**db_params)\n",
    "cursor = conn.cursor()\n",
    "\n",
    "# --- Create table if it doesn't exist ---\n",
    "def create_table_if_not_exists(df, table_name):\n",
    "    columns = []\n",
    "    for col, dtype in zip(df.columns, df.dtypes):\n",
    "        col = col.strip().lower().replace(\" \", \"_\")\n",
    "        if 'int' in str(dtype):\n",
    "            pg_type = 'INTEGER'\n",
    "        elif 'float' in str(dtype):\n",
    "            pg_type = 'NUMERIC'\n",
    "        elif 'bool' in str(dtype):\n",
    "            pg_type = 'BOOLEAN'\n",
    "        else:\n",
    "            pg_type = 'TEXT'\n",
    "        columns.append(f'\"{col}\" {pg_type}')\n",
    "    create_sql = f'CREATE TABLE IF NOT EXISTS \"{table_name}\" ({\", \".join(columns)});'\n",
    "    cursor.execute(create_sql)\n",
    "    conn.commit()\n",
    "\n",
    "# --- Load CSV into PostgreSQL ---\n",
    "def load_csv_to_postgres(file_obj, table_name):\n",
    "    try:\n",
    "        df = pd.read_csv(file_obj)\n",
    "\n",
    "        # Ensure the table exists with proper schema\n",
    "        create_table_if_not_exists(df, table_name)\n",
    "\n",
    "        # Write to buffer\n",
    "        csv_buffer = StringIO()\n",
    "        df.to_csv(csv_buffer, index=False, header=False)\n",
    "        csv_buffer.seek(0)\n",
    "\n",
    "        # Load into PostgreSQL\n",
    "        copy_sql = f'COPY \"{table_name}\" FROM STDIN WITH CSV DELIMITER \\',\\' NULL \\'\\''\n",
    "        cursor.copy_expert(sql=copy_sql, file=csv_buffer)\n",
    "        conn.commit()\n",
    "        print(f\"✅ Loaded data into table: {table_name}\")\n",
    "    except Exception as e:\n",
    "        print(f\"❌ Error loading {table_name}: {e}\")\n",
    "        conn.rollback()\n",
    "\n",
    "# --- Process CSV files in S3 ---\n",
    "response = s3_client.list_objects_v2(Bucket=bucket_name, Prefix=prefix)\n",
    "for obj in response.get('Contents', []):\n",
    "    file_key = obj['Key']\n",
    "    if file_key.endswith('.csv'):\n",
    "        table_name = file_key.split('/')[-1].replace('.csv', '').lower()\n",
    "        print(f\"📥 Processing: {file_key} ➜ Table: {table_name}\")\n",
    "        file_obj = s3_client.get_object(Bucket=bucket_name, Key=file_key)['Body']\n",
    "        load_csv_to_postgres(file_obj, table_name)\n",
    "\n",
    "# --- Cleanup ---\n",
    "cursor.close()\n",
    "conn.close()\n",
    "print(\"🚀 All done!\")\n"
   ]
  },
  {
   "cell_type": "code",
   "execution_count": null,
   "id": "3797a836",
   "metadata": {},
   "outputs": [],
   "source": []
  }
 ],
 "metadata": {
  "kernelspec": {
   "display_name": "base",
   "language": "python",
   "name": "python3"
  },
  "language_info": {
   "codemirror_mode": {
    "name": "ipython",
    "version": 3
   },
   "file_extension": ".py",
   "mimetype": "text/x-python",
   "name": "python",
   "nbconvert_exporter": "python",
   "pygments_lexer": "ipython3",
   "version": "3.12.7"
  }
 },
 "nbformat": 4,
 "nbformat_minor": 5
}
